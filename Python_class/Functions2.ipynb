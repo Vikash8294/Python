{
 "cells": [
  {
   "cell_type": "markdown",
   "metadata": {},
   "source": [
    "# Functions in Python\n"
   ]
  },
  {
   "cell_type": "markdown",
   "metadata": {},
   "source": [
    "A function in Python is a block of organized, reusable code that performs a specific task. Functions allow you to break down complex problems into smaller, manageable pieces, promote code reuse, and improve readability."
   ]
  },
  {
   "cell_type": "code",
   "execution_count": 2,
   "metadata": {},
   "outputs": [
    {
     "name": "stdout",
     "output_type": "stream",
     "text": [
      "Hello, Alice!\n"
     ]
    }
   ],
   "source": [
    "def greet(name):\n",
    "\n",
    "    \"\"\"Greets a person by their name.\"\"\"\n",
    "    return f\"Hello, {name}!\" # Calling the function\n",
    "\n",
    "\n",
    "message = greet(\"Alice\")\n",
    "print(message)  # Output: Hello, Alice!\n"
   ]
  },
  {
   "cell_type": "code",
   "execution_count": 3,
   "metadata": {},
   "outputs": [
    {
     "name": "stdout",
     "output_type": "stream",
     "text": [
      "My name is Pawan, and I am 25 years old.\n",
      "My name is Alice, and I am 30 years old.\n"
     ]
    }
   ],
   "source": [
    "# Keyword Parameter in python\n",
    "\n",
    "def introduce(name, age=25):\n",
    "\n",
    "    \"\"\"Introduces a person with their name and age.\"\"\"\n",
    "    return f\"My name is {name}, and I am {age} years old.\"# Calling with positional arguments\n",
    "\n",
    "\n",
    "print(introduce(\"Pawan\"))  # Output: My name is Bob, and I am 25 years old.Calling with keyword arguments\n",
    "\n",
    "\n",
    "print(introduce(name=\"Alice\", age=30))  # Output: My name is Alice, and I am 30 years old."
   ]
  },
  {
   "cell_type": "code",
   "execution_count": 4,
   "metadata": {},
   "outputs": [
    {
     "name": "stdout",
     "output_type": "stream",
     "text": [
      "15\n",
      "60\n"
     ]
    }
   ],
   "source": [
    "# PASSING LIST,TUPLES, DICTIONARY TO THE FUNCTIONS\n",
    "def sum_numbers(numbers):\n",
    "\n",
    "    \"\"\"Sums all the numbers in a collection.\"\"\"\n",
    "    return sum(numbers)# Passing a list to the function\n",
    "\n",
    "\n",
    "result = sum_numbers([1, 2, 3, 4, 5])\n",
    "print(result)  # Output: 15Passing a tuple to the function\n",
    "\n",
    "\n",
    "result = sum_numbers((10, 20, 30))\n",
    "print(result)  # Output: 60"
   ]
  },
  {
   "cell_type": "markdown",
   "metadata": {},
   "source": [
    "# Variable Number of Arguments ( args and Kwargs)"
   ]
  },
  {
   "cell_type": "code",
   "execution_count": 6,
   "metadata": {},
   "outputs": [
    {
     "name": "stdout",
     "output_type": "stream",
     "text": [
      "1\n",
      "2\n",
      "3\n",
      "4\n",
      "name: Alice\n",
      "age: 30\n"
     ]
    }
   ],
   "source": [
    "# mandatory variable always come in left side and rest dafualt etc will come on righthand side\n",
    "\n",
    "# if we need some more argument as per the user requirement \n",
    "def print_numbers(*args):\n",
    "\n",
    "    for number in args:\n",
    "        print(number)\n",
    "\n",
    "print_numbers(1, 2, 3, 4)\n",
    "\n",
    "def print_key_value(**kwargs):\n",
    "    for key, value in kwargs.items():\n",
    "        print(f\"{key}: {value}\")\n",
    "\n",
    "\n",
    "print_key_value(name=\"Alice\", age=30)"
   ]
  },
  {
   "cell_type": "code",
   "execution_count": 7,
   "metadata": {},
   "outputs": [
    {
     "name": "stdout",
     "output_type": "stream",
     "text": [
      "1\n",
      "(2, 3, 4)\n"
     ]
    }
   ],
   "source": [
    "def sum3(a,*args):\n",
    "    print(a)\n",
    "    print(args)\n",
    "    res=a\n",
    "    for i in range(0,len(args)):\n",
    "        res=res+args[i]\n",
    "        \n",
    "    return res\n",
    "\n",
    "res=sum3(1,2,3,4)"
   ]
  },
  {
   "cell_type": "code",
   "execution_count": 8,
   "metadata": {},
   "outputs": [
    {
     "name": "stdout",
     "output_type": "stream",
     "text": [
      "name: Pawan\n",
      "age: 20\n",
      "Job: Data Scientist\n"
     ]
    }
   ],
   "source": [
    "# using keyword argument in python \n",
    "def printdict(**info):\n",
    "    for key, value in info.items():\n",
    "        print(f\"{key}: {value}\")\n",
    "\n",
    "dict1={\n",
    "    \"name\":\"Pawan\",\n",
    "    \"batch\":\"B1\",\n",
    "    \"classtime\":\"8:AM\"\n",
    "}\n",
    "\n",
    "printdict(name=\"Pawan\",age=20,Job=\"Data Scientist\")"
   ]
  }
 ],
 "metadata": {
  "kernelspec": {
   "display_name": "Python 3",
   "language": "python",
   "name": "python3"
  },
  "language_info": {
   "codemirror_mode": {
    "name": "ipython",
    "version": 3
   },
   "file_extension": ".py",
   "mimetype": "text/x-python",
   "name": "python",
   "nbconvert_exporter": "python",
   "pygments_lexer": "ipython3",
   "version": "3.12.4"
  }
 },
 "nbformat": 4,
 "nbformat_minor": 2
}
