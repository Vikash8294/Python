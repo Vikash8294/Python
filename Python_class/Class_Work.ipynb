{
 "cells": [
  {
   "cell_type": "markdown",
   "metadata": {},
   "source": [
    "# Dynamic Types\n",
    "Python is dynamically type means we dont have to declare the type of the variable explicitly like in C, C++ etc"
   ]
  },
  {
   "cell_type": "code",
   "execution_count": 3,
   "metadata": {},
   "outputs": [],
   "source": [
    "x = 10        # x is an integer"
   ]
  },
  {
   "cell_type": "code",
   "execution_count": 4,
   "metadata": {},
   "outputs": [],
   "source": [
    "x = \"Hello\"   # x is now a string"
   ]
  },
  {
   "cell_type": "markdown",
   "metadata": {},
   "source": [
    "# Mutable and Immutable Data Types"
   ]
  },
  {
   "cell_type": "code",
   "execution_count": 5,
   "metadata": {},
   "outputs": [
    {
     "name": "stdout",
     "output_type": "stream",
     "text": [
      "140703406160600\n",
      "140703406160632\n",
      "2470305637904\n",
      "2470305710832\n"
     ]
    }
   ],
   "source": [
    "# Immutable objects cannot be modified after they are created. For example - Integers, Strings, Float etc\n",
    "x = 10\n",
    "print(id(x))  # Output: Address of x\n",
    "x = x + 1\n",
    "print(id(x))  # Output: New address, since x is now a new object\n",
    "y = \"Hello\"\n",
    "print(id(y))  # Output: Address of y\n",
    "y = y + \" World\"\n",
    "print(id(y))  # Output: New address, since y is now a new object\n",
    "\n",
    "# In this example when we modify x and y, new objects are created with diffrent memory addresses"
   ]
  },
  {
   "cell_type": "code",
   "execution_count": 6,
   "metadata": {},
   "outputs": [
    {
     "name": "stdout",
     "output_type": "stream",
     "text": [
      "2470305739072\n",
      "2470305739072\n"
     ]
    }
   ],
   "source": [
    "# Mutable objects are those which can be modified once they are created. For examples - Lists, Sets etc\n",
    "z = [1, 2, 3]\n",
    "print(id(z))  # Output: Address of z\n",
    "z.append(4)\n",
    "print(id(z))  # Output: Same address, even though the contents have changed\n",
    "\n",
    "# In this example list z will remain at same memory location even after it's content is modified"
   ]
  },
  {
   "cell_type": "markdown",
   "metadata": {},
   "source": [
    "# Basic Syntax and Comments"
   ]
  },
  {
   "cell_type": "code",
   "execution_count": 7,
   "metadata": {},
   "outputs": [
    {
     "ename": "IndentationError",
     "evalue": "expected an indented block after 'if' statement on line 2 (2936369565.py, line 3)",
     "output_type": "error",
     "traceback": [
      "\u001b[1;36m  Cell \u001b[1;32mIn[7], line 3\u001b[1;36m\u001b[0m\n\u001b[1;33m    print(\"Five is greater than two!\")  # This will not work because this is not properly indented\u001b[0m\n\u001b[1;37m    ^\u001b[0m\n\u001b[1;31mIndentationError\u001b[0m\u001b[1;31m:\u001b[0m expected an indented block after 'if' statement on line 2\n"
     ]
    }
   ],
   "source": [
    "# Python follow simple syntax. Code blocks are defined by indentation rather than braces or keywords\n",
    "if 5 > 2:\n",
    "print(\"Five is greater than two!\")  # This will not work because this is not properly indented "
   ]
  },
  {
   "cell_type": "code",
   "execution_count": 8,
   "metadata": {},
   "outputs": [
    {
     "name": "stdout",
     "output_type": "stream",
     "text": [
      "Five is greater than two!\n"
     ]
    }
   ],
   "source": [
    "# Python follow simple syntax. Code blocks are defined by indentation rather than braces or keywords\n",
    "if 5 > 2:\n",
    "    print(\"Five is greater than two!\")  # This will work now because it is properly indented now"
   ]
  },
  {
   "cell_type": "code",
   "execution_count": 9,
   "metadata": {},
   "outputs": [
    {
     "name": "stdout",
     "output_type": "stream",
     "text": [
      "Hello World\n"
     ]
    },
    {
     "data": {
      "text/plain": [
       "'\\nThese are used for multi line comments in python\\n'"
      ]
     },
     "execution_count": 9,
     "metadata": {},
     "output_type": "execute_result"
    }
   ],
   "source": [
    "# Comments are of two types - Single line  and multi line we can do both of them in python \n",
    "# Single line Comment \n",
    "print(\"Hello World\") # This is single line comment or inline comment\n",
    "\"\"\"\n",
    "These are used for multi line comments in python\n",
    "\"\"\""
   ]
  },
  {
   "cell_type": "markdown",
   "metadata": {},
   "source": [
    "# Strings in Python and methods"
   ]
  },
  {
   "cell_type": "code",
   "execution_count": 10,
   "metadata": {},
   "outputs": [
    {
     "name": "stdout",
     "output_type": "stream",
     "text": [
      "HELLO WORLD\n",
      "Hello world\n",
      "Hello World\n"
     ]
    }
   ],
   "source": [
    "string = \"Hello World\" # This a string in Python \n",
    "# Now some string methods which are used for string manupulation, Python provide many inbuilt methods\n",
    "print(string.upper())  # Output: HELLO, WORLD!\n",
    "print(string.capitalize())  # Output: Hello, world!\n",
    "print(string.replace(\"world\", \"Python\"))  # Output: hello, Python!"
   ]
  },
  {
   "cell_type": "markdown",
   "metadata": {},
   "source": [
    "String Operators"
   ]
  },
  {
   "cell_type": "code",
   "execution_count": 14,
   "metadata": {},
   "outputs": [
    {
     "name": "stdout",
     "output_type": "stream",
     "text": [
      "Hello World\n",
      "HelloHelloHello\n",
      "P\n",
      "n\n",
      "Pyt\n",
      "5\n"
     ]
    }
   ],
   "source": [
    "# Operators allow us to do operations in strings \n",
    "# Concatenation\n",
    "# Through Concatenation we can combine strings\n",
    "str1 = \"Hello\"\n",
    "str2 = \"World\"\n",
    "result = str1 + \" \" + str2  # Output: \"Hello World\"Repetition\n",
    "print(result)\n",
    "\n",
    "# Repetations \n",
    "# Through this operator we can repeat a string a number of times\n",
    "result = str1 * 3  # Output: \"HelloHelloHello\"Membership\n",
    "print(result)\n",
    "\n",
    "# Slicing operator \n",
    "# Access a part of the string using indices\n",
    "str1 = \"Python\"\n",
    "print(str1[0])    # Output: P (first character)\n",
    "print(str1[-1])   # Output: n (last character)\n",
    "print(str1[0:3])  # Output: Pyt (slice from index 0 to 2)\n",
    "\n",
    "# Length Operator \n",
    "# Return length of the string\n",
    "str1 = \"Hello\"\n",
    "print(len(str1))  # Output: 5"
   ]
  },
  {
   "cell_type": "markdown",
   "metadata": {},
   "source": [
    "String Methods "
   ]
  },
  {
   "cell_type": "code",
   "execution_count": 16,
   "metadata": {},
   "outputs": [
    {
     "name": "stdout",
     "output_type": "stream",
     "text": [
      "HELLO\n",
      "hello\n",
      "Hello\n",
      "My name is Alice and I am 30 years old.\n"
     ]
    }
   ],
   "source": [
    "# Python provides several built in string methods like .upper(), .lower(), .strip() etc which acts like operators on string\n",
    "str1 = \"hello\"\n",
    "print(str1.upper())  # Output: HELLO\n",
    "print(str1.lower())  # Output: hello\n",
    "print(str1.capitalize())  # Output: Hello\n",
    "\n",
    "# Format Methods \n",
    "# It is used to format strings by embedding values within them\n",
    "name = \"Alice\"\n",
    "age = 30\n",
    "message = \"My name is {} and I am {} years old.\".format(name, age)\n",
    "print(message)  # Output: My name is Alice and I am 30 years old."
   ]
  },
  {
   "cell_type": "markdown",
   "metadata": {},
   "source": [
    "# Numeric Data Types"
   ]
  },
  {
   "cell_type": "code",
   "execution_count": 17,
   "metadata": {},
   "outputs": [],
   "source": [
    "# Python supports several numerical data types such as int, float etc\n",
    "# Type conversion in python\n",
    "# It is used to convert a given data type into another data type of our want \n",
    "l = int(3.7)        # Converts to 3\n",
    "m = float(5)        # Converts to 5.0\n",
    "n = complex(2)      # Converts to (2+0j)\n",
    "o = bool(0)         # Converts to False\n",
    "p = bool(42)        # Converts to True"
   ]
  },
  {
   "cell_type": "markdown",
   "metadata": {},
   "source": [
    "# Input and Output Function "
   ]
  },
  {
   "cell_type": "code",
   "execution_count": 18,
   "metadata": {},
   "outputs": [
    {
     "name": "stdout",
     "output_type": "stream",
     "text": [
      "Pawan\n"
     ]
    }
   ],
   "source": [
    "# Input function is that function through which we can take input from user\n",
    "a = input(\"Enter Your Name : \")\n",
    "# Output function is that function through which we can output to user\n",
    "print(a)"
   ]
  },
  {
   "cell_type": "markdown",
   "metadata": {},
   "source": [
    "# Conditional Statements in Python"
   ]
  },
  {
   "cell_type": "code",
   "execution_count": 20,
   "metadata": {},
   "outputs": [
    {
     "name": "stdout",
     "output_type": "stream",
     "text": [
      "The number is positive.\n",
      "The number is even.\n",
      "Grade: F\n"
     ]
    }
   ],
   "source": [
    "# Conditonal statements are basically used where we have some condtion to check \n",
    "# Conditional statement to check if a number is positive or negative\n",
    "number = 10\n",
    "if number > 0:\n",
    "    print(\"The number is positive.\")\n",
    "else:\n",
    "    print(\"The number is negative or zero.\")\n",
    "    \n",
    "\n",
    "# Check if a number is even or odd\n",
    "number = int(input(\"Enter a number: \"))\n",
    "\n",
    "if number % 2 == 0:\n",
    "    print(\"The number is even.\")\n",
    "else:\n",
    "    print(\"The number is odd.\")\n",
    "\n",
    "\n",
    "# Classify a grade\n",
    "grade = int(input(\"Enter your grade (0-100): \"))\n",
    "\n",
    "if grade >= 90:\n",
    "    print(\"Grade: A\")\n",
    "elif grade >= 80:\n",
    "    print(\"Grade: B\")\n",
    "elif grade >= 70:\n",
    "    print(\"Grade: C\")\n",
    "elif grade >= 60:\n",
    "    print(\"Grade: D\")\n",
    "else:\n",
    "    print(\"Grade: F\")\n",
    "\n"
   ]
  },
  {
   "cell_type": "markdown",
   "metadata": {},
   "source": [
    "# Loops in Python"
   ]
  },
  {
   "cell_type": "code",
   "execution_count": 21,
   "metadata": {},
   "outputs": [
    {
     "name": "stdout",
     "output_type": "stream",
     "text": [
      "Count is: 0\n",
      "Count is: 1\n",
      "Count is: 2\n",
      "Count is: 3\n",
      "Count is: 4\n",
      "Loop has ended. Final count is: 5\n"
     ]
    }
   ],
   "source": [
    "# While loop \n",
    "# This will repetadly executes the code as long as the conditon is true\n",
    "# Initialize a counter variable to start the loop\n",
    "count = 0\n",
    "\n",
    "# Start of the while loop\n",
    "# The condition (count < 5) is checked before each iteration\n",
    "# The loop will continue to run as long as this condition is True\n",
    "while count < 5:\n",
    "    # Inside the loop:\n",
    "    # Print the current value of the counter variable 'count'\n",
    "    print(\"Count is:\", count)\n",
    "    \n",
    "    # Increment the counter variable by 1\n",
    "    # This ensures that eventually the condition (count < 5) will become False\n",
    "    count += 1\n",
    "\n",
    "# After the loop exits (when count is no longer less than 5):\n",
    "# Print a final message with the value of 'count'\n",
    "print(\"Loop has ended. Final count is:\", count)\n"
   ]
  },
  {
   "cell_type": "code",
   "execution_count": 22,
   "metadata": {},
   "outputs": [
    {
     "name": "stdout",
     "output_type": "stream",
     "text": [
      "Current fruit: apple\n",
      "Current fruit: banana\n",
      "Current fruit: cherry\n",
      "All fruits have been printed.\n"
     ]
    }
   ],
   "source": [
    "# For loop\n",
    "# In Python, a for loop is used to iterate over a sequence of elements, such as a list, tuple, string, or range\n",
    "# Define a list of fruits\n",
    "# This list will be used to demonstrate the for loop\n",
    "fruits = ['apple', 'banana', 'cherry']\n",
    "\n",
    "# Start of the for loop\n",
    "# The 'for' loop iterates over each item in the 'fruits' list\n",
    "# In each iteration, the variable 'fruit' takes on the value of the next item in the list\n",
    "for fruit in fruits:\n",
    "    # Inside the loop:\n",
    "    # Print the current item (fruit) from the list\n",
    "    # The value of 'fruit' changes with each iteration, starting from 'apple'\n",
    "    print(\"Current fruit:\", fruit)\n",
    "\n",
    "# After the for loop has iterated over all items in the list:\n",
    "# Print a final message to indicate that all items have been processed\n",
    "print(\"All fruits have been printed.\")\n"
   ]
  },
  {
   "cell_type": "markdown",
   "metadata": {},
   "source": [
    "# Break and Continue Statements"
   ]
  },
  {
   "cell_type": "code",
   "execution_count": 23,
   "metadata": {},
   "outputs": [
    {
     "name": "stdout",
     "output_type": "stream",
     "text": [
      "0\n",
      "1\n",
      "2\n",
      "3\n",
      "4\n",
      "Loop has been terminated.\n",
      "1\n",
      "3\n",
      "5\n",
      "7\n",
      "9\n",
      "Finished skipping even numbers.\n"
     ]
    }
   ],
   "source": [
    "# The break statement is used to exit a loop prematurely, regardless of the loop’s condition. When encountered, it immediately terminates the loop and transfers control to the statement following the loop.\n",
    "# Using break to exit a loop early\n",
    "for i in range(10):\n",
    "    if i == 5:\n",
    "        # Exit the loop when i equals 5\n",
    "        break\n",
    "    print(i)\n",
    "\n",
    "print(\"Loop has been terminated.\")\n",
    "\n",
    "# The continue statement is used to skip the remaining code inside the loop for the current iteration and proceed to the next iteration. It effectively jumps to the next loop cycle, bypassing the code below it for the current iteration.\n",
    "# Using continue to skip certain iterations\n",
    "for i in range(10):\n",
    "    if i % 2 == 0:\n",
    "        # Skip the rest of the loop body if i is even\n",
    "        continue\n",
    "    print(i)\n",
    "\n",
    "print(\"Finished skipping even numbers.\")\n"
   ]
  },
  {
   "cell_type": "markdown",
   "metadata": {},
   "source": [
    "# Functions In Python"
   ]
  },
  {
   "cell_type": "code",
   "execution_count": 7,
   "metadata": {},
   "outputs": [
    {
     "name": "stdout",
     "output_type": "stream",
     "text": [
      "Hello, Alice!\n",
      "8\n",
      "15\n",
      "1\n",
      "2\n",
      "3\n",
      "4\n",
      "Global scope:\n",
      "Global variable x: 10\n",
      "Inner function:\n",
      "Local variable z: 30\n",
      "Enclosing variable y: 20\n",
      "Global variable x: 10\n",
      "\n",
      "Outer function:\n",
      "Enclosing variable y: 20\n",
      "Global variable x: 10\n"
     ]
    }
   ],
   "source": [
    "# In Python we define a function by using def keyword\n",
    "def greet(name):\n",
    "\n",
    "    \"\"\"Greets a person by their name.\"\"\"\n",
    "    return f\"Hello, {name}!\" #Calling the function\n",
    "\n",
    "message = greet(\"Alice\")\n",
    "print(message)  # Output: Hello, Alice!\n",
    "\n",
    "# parameters are the variables listed inside the parentheses in the  fuction defination. They allow you to pass data into the function, which function can \n",
    "# use to perform some operations\n",
    "\n",
    "def add(a, b):\n",
    "\n",
    "    \"\"\"Returns the sum of two numbers.\"\"\"\n",
    "    return a + b #Calling the function with arguments\n",
    "\n",
    "result = add(5, 3)\n",
    "print(result)  # Output: 8\n",
    "\n",
    "# Passing collections to a function \n",
    "# We can pass the entire collections like lists, tuples etc to a function\n",
    "\n",
    "def sum_numbers(numbers):\n",
    "\n",
    "    \"\"\"Sums all the numbers in a collection.\"\"\"\n",
    "    return sum(numbers) #Passing a list to the function\n",
    "\n",
    "\n",
    "result = sum_numbers([1, 2, 3, 4, 5])\n",
    "print(result)  # Output: 15Passing a tuple to the function\n",
    "\n",
    "# Variable number of arguments (args and kwargs)\n",
    "# *args - This is a way to pass a variable number of positional arguments to a function.\n",
    "# The * before args allows you to pass any number of arguments (including none) to the function. Inside the function, args is a tuple containing all the passed positional arguments.\n",
    "\n",
    "def print_numbers(*args):\n",
    "    for number in args:\n",
    "        print(number)\n",
    "\n",
    "print_numbers(1, 2, 3, 4)\n",
    "\n",
    "# Scops in Python\n",
    "\n",
    "# Global variable\n",
    "x = 10\n",
    "\n",
    "def outer_function():\n",
    "    # Enclosing variable\n",
    "    y = 20\n",
    "    \n",
    "    def inner_function():\n",
    "        # Local variable\n",
    "        z = 30\n",
    "        print(\"Inner function:\")\n",
    "        print(\"Local variable z:\", z)  # Accessible here\n",
    "        print(\"Enclosing variable y:\", y)  # Accessible here (from outer_function)\n",
    "        print(\"Global variable x:\", x)     # Accessible here\n",
    "\n",
    "    inner_function()\n",
    "    print(\"\\nOuter function:\")\n",
    "    print(\"Enclosing variable y:\", y)  # Accessible here\n",
    "    # print(\"Local variable z:\", z)  # This would raise an error because z is not accessible here\n",
    "    print(\"Global variable x:\", x)     # Accessible here\n",
    "\n",
    "print(\"Global scope:\")\n",
    "print(\"Global variable x:\", x)         # Accessible here\n",
    "# print(\"Enclosing variable y:\", y)  # This would raise an error because y is not accessible here\n",
    "# print(\"Local variable z:\", z)      # This would raise an error because z is not accessible here\n",
    "\n",
    "outer_function()\n",
    "\n",
    "\n",
    "\n",
    "\n"
   ]
  },
  {
   "cell_type": "markdown",
   "metadata": {},
   "source": [
    "Write a function which will give table of the number which user has inputed\n"
   ]
  },
  {
   "cell_type": "code",
   "execution_count": 8,
   "metadata": {},
   "outputs": [
    {
     "name": "stdout",
     "output_type": "stream",
     "text": [
      "Multiplication table for 5 is : \n",
      "5 * 1 = 5\n",
      "5 * 2 = 10\n",
      "5 * 3 = 15\n",
      "5 * 4 = 20\n",
      "5 * 5 = 25\n",
      "5 * 6 = 30\n",
      "5 * 7 = 35\n",
      "5 * 8 = 40\n",
      "5 * 9 = 45\n",
      "5 * 10 = 50\n"
     ]
    }
   ],
   "source": [
    "def table():\n",
    "    number = int(input(\"Enter a number to display its multiplication tabel : \"))\n",
    "    print(f\"Multiplication table for {number} is : \")\n",
    "    for i in range(1,11):\n",
    "        print(f\"{number} * {i} = {number * i}\")\n",
    "\n",
    "table()"
   ]
  },
  {
   "cell_type": "markdown",
   "metadata": {},
   "source": [
    "Write a function which takes four number as input and give the maximum, minimum, addition and average"
   ]
  },
  {
   "cell_type": "code",
   "execution_count": 11,
   "metadata": {},
   "outputs": [
    {
     "name": "stdout",
     "output_type": "stream",
     "text": [
      "The sum of (1, 2, 3, 4) is : 10\n",
      "The maximum number from (1, 2, 3, 4) is : 4\n",
      "The minimum number from (1, 2, 3, 4) is : 1\n",
      "The average of (1, 2, 3, 4) is : 2.5\n"
     ]
    }
   ],
   "source": [
    "def task(a,b,c,d):\n",
    "    numbers = (a,b,c,d)\n",
    "    print(f\"The sum of {numbers} is : { sum(numbers)}\")\n",
    "    print(f\"The maximum number from {numbers} is : { max(numbers)}\")\n",
    "    print(f\"The minimum number from {numbers} is : { min(numbers)}\")\n",
    "    print(f\"The average of {numbers} is : { (a+b+c+d)/4}\")\n",
    "\n",
    "a = int(input(\"Enter the value of a : \"))\n",
    "b = int(input(\"Enter the value of b : \"))\n",
    "c = int(input(\"Enter the value of c : \"))\n",
    "d = int(input(\"Enter the value of d : \"))\n",
    "task(a,b,c,d)\n",
    "    "
   ]
  },
  {
   "cell_type": "code",
   "execution_count": 1,
   "metadata": {},
   "outputs": [],
   "source": [
    "# write a function that take one variable as input and return it sum , cumulative sum, average , min and maximum value. implement this function using for loop. define function documentation using docstring and show its uses"
   ]
  },
  {
   "cell_type": "code",
   "execution_count": 2,
   "metadata": {},
   "outputs": [
    {
     "name": "stdout",
     "output_type": "stream",
     "text": [
      "{'sum': 38, 'cumulative_sum': [2, 5, 9, 14, 21, 29, 38], 'average': 5.428571428571429, 'min': 2, 'max': 9}\n"
     ]
    }
   ],
   "source": [
    "def display(list1)->None:\n",
    "    total=0\n",
    "    list2=[]\n",
    "    for i in list1:\n",
    "        total=total+i\n",
    "        list2.append(total)\n",
    "        \n",
    "    length=len(list1)\n",
    "#     print(f\"Sum is -> {sum(list1)}\")\n",
    "#     print(f\"cumulative Sum is -> {list2}\")\n",
    "#     print(f\"Average is -> {total/length}\")\n",
    "#     print(f\"Minimum is -> {min(list1)}\")\n",
    "#     print(f\"Maximum is -> {max(list1)}\")\n",
    "    result = {\n",
    "        'sum': total,\n",
    "        'cumulative_sum': list2,\n",
    "        'average': total / length if length > 0 else 0,\n",
    "        'min': min(list1),\n",
    "        'max': max(list1)\n",
    "    }\n",
    "    return result\n",
    "\n",
    "list1=[2,3,4,5,7,8,9]\n",
    "val=display(list1)\n",
    "print(val)"
   ]
  }
 ],
 "metadata": {
  "kernelspec": {
   "display_name": "Python 3",
   "language": "python",
   "name": "python3"
  },
  "language_info": {
   "codemirror_mode": {
    "name": "ipython",
    "version": 3
   },
   "file_extension": ".py",
   "mimetype": "text/x-python",
   "name": "python",
   "nbconvert_exporter": "python",
   "pygments_lexer": "ipython3",
   "version": "3.12.4"
  }
 },
 "nbformat": 4,
 "nbformat_minor": 2
}
