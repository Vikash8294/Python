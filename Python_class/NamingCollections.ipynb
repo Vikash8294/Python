{
 "cells": [
  {
   "cell_type": "markdown",
   "metadata": {},
   "source": [
    "# Naming Conventions In Python"
   ]
  },
  {
   "cell_type": "markdown",
   "metadata": {},
   "source": [
    "Snake Case\n"
   ]
  },
  {
   "cell_type": "markdown",
   "metadata": {},
   "source": [
    "snake case is a naming convention where words are sperated by underscores(_) and all letters are lowercase. this style is commonly used for naming varibales functions and methods"
   ]
  },
  {
   "cell_type": "code",
   "execution_count": 1,
   "metadata": {},
   "outputs": [
    {
     "data": {
      "text/plain": [
       "20.0"
      ]
     },
     "execution_count": 1,
     "metadata": {},
     "output_type": "execute_result"
    }
   ],
   "source": [
    "# Variable names\n",
    "\n",
    "user_name = \"Alice\"\n",
    "total_score = 0\n",
    "\n",
    "\n",
    "def calculate_average(score_list):\n",
    "    total = sum(score_list)\n",
    "    return total / len(score_list)\n",
    "\n",
    "calculate_average([10,20,30])"
   ]
  },
  {
   "cell_type": "markdown",
   "metadata": {},
   "source": [
    "# Camel case"
   ]
  },
  {
   "cell_type": "markdown",
   "metadata": {},
   "source": [
    "first letter of every word will remain small and rest word starting with Captial letter\n",
    "\n",
    "eg : userName, totalNumber,countAge"
   ]
  },
  {
   "cell_type": "code",
   "execution_count": 4,
   "metadata": {},
   "outputs": [],
   "source": [
    "# Camel case is generally not preferred in Python\n",
    "\n",
    "userName = \"Alice\"\n",
    "totalScore = 95\n"
   ]
  },
  {
   "cell_type": "markdown",
   "metadata": {},
   "source": [
    "# Pascal Case"
   ]
  },
  {
   "cell_type": "markdown",
   "metadata": {},
   "source": [
    "Captial letter of each word in the variable"
   ]
  },
  {
   "cell_type": "code",
   "execution_count": 5,
   "metadata": {},
   "outputs": [
    {
     "name": "stdout",
     "output_type": "stream",
     "text": [
      "Alice\n",
      "30\n"
     ]
    }
   ],
   "source": [
    "# Class name in Pascal case\n",
    "class EmployeeDetails:\n",
    "    # Constructor method\n",
    "    def __init__(self, name, age):\n",
    "        self.name = name  # Assign the name\n",
    "        self.age = age    # Assign the age\n",
    "\n",
    "# Creating an instance of the class\n",
    "employee = EmployeeDetails(\"Alice\", 30)\n",
    "\n",
    "# Accessing the instance attributes\n",
    "print(employee.name)  # Output: Alice\n",
    "print(employee.age)   # Output: 30\n",
    "\n"
   ]
  },
  {
   "cell_type": "markdown",
   "metadata": {},
   "source": [
    "# Uppercase with underscores\n",
    "\n",
    "saare letter upper case m honge and conversion m bich m (_)underscore hoga"
   ]
  },
  {
   "cell_type": "code",
   "execution_count": 7,
   "metadata": {},
   "outputs": [
    {
     "name": "stdout",
     "output_type": "stream",
     "text": [
      "31.4159\n"
     ]
    }
   ],
   "source": [
    "# Constant names in uppercase with underscores\n",
    "MAX_CONNECTIONS = 100\n",
    "PI = 3.14159\n",
    "\n",
    "# Using a constant in a function\n",
    "def calculate_circumference(radius):\n",
    "    return 2 * PI * radius\n",
    "\n",
    "print(calculate_circumference(5))  # Output: 31.4159\n"
   ]
  },
  {
   "cell_type": "markdown",
   "metadata": {},
   "source": [
    "# Single Undersocre Prefix"
   ]
  },
  {
   "cell_type": "code",
   "execution_count": 10,
   "metadata": {},
   "outputs": [
    {
     "name": "stdout",
     "output_type": "stream",
     "text": [
      "42\n"
     ]
    }
   ],
   "source": [
    "class MyClass:\n",
    "    def __init__(self):  # Corrected to use double underscores\n",
    "        self._internal_value = 42  # Intended for internal use only\n",
    "    \n",
    "    def get_value(self):\n",
    "        return self._internal_value\n",
    "\n",
    "# Creating an instance of MyClass\n",
    "obj = MyClass()\n",
    "print(obj.get_value())  # Output: 42\n"
   ]
  },
  {
   "cell_type": "markdown",
   "metadata": {},
   "source": [
    "# Double Undersocre Prefix"
   ]
  },
  {
   "cell_type": "code",
   "execution_count": 12,
   "metadata": {},
   "outputs": [
    {
     "name": "stdout",
     "output_type": "stream",
     "text": [
      "99\n",
      "99\n"
     ]
    }
   ],
   "source": [
    "class MyClass:\n",
    "\n",
    "    def __init__(self):  # Corrected to use double underscores\n",
    "        self.__private_value = 99  # Name mangled to _MyClass__private_value\n",
    "    \n",
    "    def get_private_value(self):\n",
    "        return self.__private_value\n",
    "\n",
    "# Creating an instance of MyClass\n",
    "obj = MyClass()\n",
    "\n",
    "# Accessing the private value using the getter method\n",
    "print(obj.get_private_value())  # Output: 99\n",
    "\n",
    "# Trying to access the private value directly\n",
    "# This will raise an AttributeError because __private_value is name-mangled\n",
    "# print(obj.__private_value)  # Uncommenting this will raise AttributeError\n",
    "\n",
    "# Accessing the name-mangled attribute directly\n",
    "print(obj._MyClass__private_value)  # Output: 99\n"
   ]
  },
  {
   "cell_type": "markdown",
   "metadata": {},
   "source": [
    "# Double Underscores Before and After Names"
   ]
  },
  {
   "cell_type": "code",
   "execution_count": 13,
   "metadata": {},
   "outputs": [
    {
     "name": "stdout",
     "output_type": "stream",
     "text": [
      "MyClass object with name: Alice\n"
     ]
    }
   ],
   "source": [
    "class MyClass:\n",
    "\n",
    "    def __init__(self, name):  # Constructor with double underscores\n",
    "        self.name = name\n",
    "\n",
    "    def __str__(self):  # String representation method with double underscores\n",
    "        return f\"MyClass object with name: {self.name}\"\n",
    "\n",
    "# Creating an instance of MyClass\n",
    "obj = MyClass(\"Alice\")\n",
    "print(obj)  # Output: MyClass object with name: Alice\n"
   ]
  }
 ],
 "metadata": {
  "kernelspec": {
   "display_name": "Python 3",
   "language": "python",
   "name": "python3"
  },
  "language_info": {
   "codemirror_mode": {
    "name": "ipython",
    "version": 3
   },
   "file_extension": ".py",
   "mimetype": "text/x-python",
   "name": "python",
   "nbconvert_exporter": "python",
   "pygments_lexer": "ipython3",
   "version": "3.12.4"
  }
 },
 "nbformat": 4,
 "nbformat_minor": 2
}
