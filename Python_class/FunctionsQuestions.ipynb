{
 "cells": [
  {
   "cell_type": "markdown",
   "metadata": {},
   "source": [
    "write a function that take one variable as input and return it sum , cumulative sum, average , min and maximum value. implement this function using for loop. define function documentation using docstring and show its uses\n"
   ]
  },
  {
   "cell_type": "code",
   "execution_count": 1,
   "metadata": {},
   "outputs": [
    {
     "name": "stdout",
     "output_type": "stream",
     "text": [
      "{'sum': 38, 'cumulative_sum': [2, 5, 9, 14, 21, 29, 38], 'average': 5.428571428571429, 'min': 2, 'max': 9}\n"
     ]
    }
   ],
   "source": [
    "def display(list1)->None:\n",
    "    total=0\n",
    "    list2=[]\n",
    "    for i in list1:\n",
    "        total=total+i\n",
    "        list2.append(total)\n",
    "        \n",
    "    length=len(list1)\n",
    "#     print(f\"Sum is -> {sum(list1)}\")\n",
    "#     print(f\"cumulative Sum is -> {list2}\")\n",
    "#     print(f\"Average is -> {total/length}\")\n",
    "#     print(f\"Minimum is -> {min(list1)}\")\n",
    "#     print(f\"Maximum is -> {max(list1)}\")\n",
    "    result = {\n",
    "        'sum': total,\n",
    "        'cumulative_sum': list2,\n",
    "        'average': total / length if length > 0 else 0,\n",
    "        'min': min(list1),\n",
    "        'max': max(list1)\n",
    "    }\n",
    "    return result\n",
    "\n",
    "list1=[2,3,4,5,7,8,9]\n",
    "val=display(list1)\n",
    "print(val)"
   ]
  },
  {
   "cell_type": "markdown",
   "metadata": {},
   "source": [
    "Question 1 part 2: Take input for the users"
   ]
  },
  {
   "cell_type": "code",
   "execution_count": 3,
   "metadata": {},
   "outputs": [
    {
     "name": "stdout",
     "output_type": "stream",
     "text": [
      "[1, 2, 3]\n"
     ]
    }
   ],
   "source": [
    "# asking user to enter the number which he want to fix\n",
    "n=int(input(\"Enter the number :\"))\n",
    "\n",
    "list1=[]\n",
    "for i in range(0,n):\n",
    "    user=int(input(\"enter the element {i}\"))\n",
    "    list1.append(user)\n",
    "print(list1)"
   ]
  },
  {
   "cell_type": "code",
   "execution_count": 4,
   "metadata": {},
   "outputs": [
    {
     "name": "stdout",
     "output_type": "stream",
     "text": [
      "{'sum': 10, 'cumulative_sum': [1, 3, 6, 10], 'average': 2.5, 'min': 1, 'max': 4}\n"
     ]
    }
   ],
   "source": [
    "# final code \n",
    "\n",
    "def display(list1)->None:\n",
    "    total=0\n",
    "    list2=[]\n",
    "    for i in list1:\n",
    "        total=total+i\n",
    "        list2.append(total)\n",
    "        \n",
    "    length=len(list1)\n",
    "    result = {\n",
    "        'sum': total,\n",
    "        'cumulative_sum': list2,\n",
    "        'average': total / length if length > 0 else 0,\n",
    "        'min': min(list1),\n",
    "        'max': max(list1)\n",
    "    }\n",
    "    return result\n",
    "\n",
    "# asking user to enter the number which he want to fix\n",
    "n=int(input(\"Enter the number :\"))\n",
    "list1=[]\n",
    "for i in range(0,n):\n",
    "    user=int(input(\"enter the element {i}\"))\n",
    "    list1.append(user)\n",
    "    \n",
    "val=display(list1)\n",
    "print(val)"
   ]
  },
  {
   "cell_type": "markdown",
   "metadata": {},
   "source": [
    "Task 3 : to make input from the user as function"
   ]
  },
  {
   "cell_type": "code",
   "execution_count": 5,
   "metadata": {},
   "outputs": [],
   "source": [
    "def display(list1)->None:\n",
    "    total=0\n",
    "    list2=[]\n",
    "    for i in list1:\n",
    "        total=total+i\n",
    "        list2.append(total)\n",
    "        \n",
    "    length=len(list1)\n",
    "    result = {\n",
    "        'sum': total,\n",
    "        'cumulative_sum': list2,\n",
    "        'average': total / length if length > 0 else 0,\n",
    "        'min': min(list1),\n",
    "        'max': max(list1)\n",
    "    }\n",
    "    return result\n",
    "\n",
    "\n",
    "    \n",
    "# val=display(list1)\n",
    "# print(val)"
   ]
  },
  {
   "cell_type": "code",
   "execution_count": 6,
   "metadata": {},
   "outputs": [
    {
     "name": "stdout",
     "output_type": "stream",
     "text": [
      "{'sum': 6, 'cumulative_sum': [1, 3, 6], 'average': 2.0, 'min': 1, 'max': 3}\n"
     ]
    }
   ],
   "source": [
    "def input_from_user_element():\n",
    "    n=int(input(\"Enter the number :\"))\n",
    "    list1=[]\n",
    "    for i in range(0,n):\n",
    "        user=int(input(\"enter the element {i}\"))\n",
    "        list1.append(user)\n",
    "    val=display(list1)\n",
    "    print(val)\n",
    "    \n",
    "input_from_user_element()"
   ]
  },
  {
   "cell_type": "code",
   "execution_count": 7,
   "metadata": {},
   "outputs": [
    {
     "name": "stdout",
     "output_type": "stream",
     "text": [
      "{'sum': 6, 'cumulative_sum': [1, 3, 6], 'average': 2.0, 'min': 1, 'max': 3}\n"
     ]
    }
   ],
   "source": [
    "# final code \n",
    "\n",
    "def display(list1)->None:\n",
    "    total=0\n",
    "    list2=[]\n",
    "    for i in list1:\n",
    "        total=total+i\n",
    "        list2.append(total)\n",
    "        \n",
    "    length=len(list1)\n",
    "    result = {\n",
    "        'sum': total,\n",
    "        'cumulative_sum': list2,\n",
    "        'average': total / length if length > 0 else 0,\n",
    "        'min': min(list1),\n",
    "        'max': max(list1)\n",
    "    }\n",
    "    return result\n",
    "\n",
    "\n",
    "def input_from_user_element():\n",
    "    n=int(input(\"Enter the number :\"))\n",
    "    list1=[]\n",
    "    for i in range(0,n):\n",
    "        user=int(input(\"enter the element {i}\"))\n",
    "        list1.append(user)\n",
    "    val=display(list1)\n",
    "    print(val)\n",
    "    \n",
    "input_from_user_element()"
   ]
  },
  {
   "cell_type": "markdown",
   "metadata": {},
   "source": [
    "# Function Scope"
   ]
  },
  {
   "cell_type": "code",
   "execution_count": 9,
   "metadata": {},
   "outputs": [
    {
     "name": "stdout",
     "output_type": "stream",
     "text": [
      "Global X before calling outer_function: 10\n",
      "Value of X in outer function (global): 10\n",
      "Value of X in inner function (local): 30\n",
      "Value of X in outer function (after change): 20\n",
      "Global X after calling outer_function: 20\n"
     ]
    }
   ],
   "source": [
    "x = 10  # Global variable can be accessed anywhere\n",
    "\n",
    "def outer_function():\n",
    "    global x  # This tells Python that you're referring to the global 'x'\n",
    "    print(f\"Value of X in outer function (global): {x}\")  # Output: 10\n",
    "    \n",
    "    # Local 'x' defined inside this function\n",
    "    x = 20  # Now modifying the global variable 'x'\n",
    "    \n",
    "    def inner_function():\n",
    "        nonlocal_x = 30  # A local variable in inner_function\n",
    "        print(f\"Value of X in inner function (local): {nonlocal_x}\")  # Output: 30\n",
    "    \n",
    "    inner_function()\n",
    "    print(f\"Value of X in outer function (after change): {x}\")  # Output: 20\n",
    "\n",
    "print(f\"Global X before calling outer_function: {x}\")  # Output: 10\n",
    "outer_function()  # Call outer_function\n",
    "print(f\"Global X after calling outer_function: {x}\")  # Output: 20\n"
   ]
  },
  {
   "cell_type": "markdown",
   "metadata": {},
   "source": [
    "# Behaviour Mutuable/ Immutable"
   ]
  },
  {
   "cell_type": "code",
   "execution_count": 10,
   "metadata": {},
   "outputs": [
    {
     "name": "stdout",
     "output_type": "stream",
     "text": [
      "Inside function: 6\n",
      "Outside function: 5\n"
     ]
    }
   ],
   "source": [
    "# Behavior of mutable and immutable arguments\n",
    "\n",
    "def modify_immutable(x):\n",
    "    \n",
    "    x += 1\n",
    "    print(f\"Inside function: {x}\")\n",
    "      \n",
    "a = 5\n",
    "modify_immutable(a)\n",
    "print(f\"Outside function: {a}\")  # Output: 5 unchanged rahega!!!"
   ]
  },
  {
   "cell_type": "markdown",
   "metadata": {},
   "source": [
    "# ID changing"
   ]
  },
  {
   "cell_type": "code",
   "execution_count": 11,
   "metadata": {},
   "outputs": [
    {
     "name": "stdout",
     "output_type": "stream",
     "text": [
      "Before:140719508290104\n",
      "After:140719508290136\n"
     ]
    }
   ],
   "source": [
    "# exploring ID in both local and global variable\n",
    "\n",
    "def modify(x):\n",
    "    print(f\"Before:{id(x)}\")\n",
    "    x=x+1\n",
    "    print(f\"After:{id(x)}\")\n",
    "\n",
    "a=5\n",
    "modify(a)"
   ]
  },
  {
   "cell_type": "code",
   "execution_count": 12,
   "metadata": {},
   "outputs": [
    {
     "name": "stdout",
     "output_type": "stream",
     "text": [
      "1\n"
     ]
    }
   ],
   "source": [
    "# modifying global variable\n",
    "\n",
    "counter=0\n",
    "def increment():\n",
    "    global counter\n",
    "    counter=counter+1\n",
    "\n",
    "increment()\n",
    "print(counter)"
   ]
  },
  {
   "cell_type": "code",
   "execution_count": 13,
   "metadata": {},
   "outputs": [
    {
     "name": "stdout",
     "output_type": "stream",
     "text": [
      "Inside function: [1, 2, 3, 4]\n",
      "Outside function: [1, 2, 3, 4]\n"
     ]
    }
   ],
   "source": [
    "# mutable object modification in function\n",
    "def modify_mutable(lst):\n",
    "    lst.append(4)\n",
    "    print(f\"Inside function: {lst}\")\n",
    "\n",
    "\n",
    "my_list = [1, 2, 3]\n",
    "modify_mutable(my_list)\n",
    "print(f\"Outside function: {my_list}\")  # Output: [1, 2, 3, 4] (modified)"
   ]
  }
 ],
 "metadata": {
  "kernelspec": {
   "display_name": "Python 3",
   "language": "python",
   "name": "python3"
  },
  "language_info": {
   "codemirror_mode": {
    "name": "ipython",
    "version": 3
   },
   "file_extension": ".py",
   "mimetype": "text/x-python",
   "name": "python",
   "nbconvert_exporter": "python",
   "pygments_lexer": "ipython3",
   "version": "3.12.4"
  }
 },
 "nbformat": 4,
 "nbformat_minor": 2
}
