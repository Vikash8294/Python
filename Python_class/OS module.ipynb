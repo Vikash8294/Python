{
 "cells": [
  {
   "cell_type": "code",
   "execution_count": 3,
   "id": "6d689e6f-8a7c-49f2-be68-5fcde44e141d",
   "metadata": {},
   "outputs": [
    {
     "data": {
      "text/plain": [
       "['Class_Assignment',\n",
       " 'Class_Work.ipynb',\n",
       " 'Functions2.ipynb',\n",
       " 'FunctionsQuestions.ipynb',\n",
       " 'GenerateEmails.ipynb',\n",
       " 'Lamda Function.ipynb',\n",
       " 'ListCopy.ipynb',\n",
       " 'NamingCollections.ipynb']"
      ]
     },
     "execution_count": 3,
     "metadata": {},
     "output_type": "execute_result"
    }
   ],
   "source": [
    "# wap to show list of files in a dir whose address is provided by user \n",
    "\n",
    "import os\n",
    "address = r\"C:\\Users\\PAWAN\\Desktop\\GITHUB\\Python_Class\\Class Notes\" # for windows users\n",
    "#address = \"/mnt/c/GITHUB/PythonProgrammingUPES/B1B2\" # for linux or wsl users \n",
    "\n",
    "list_of_files = os.listdir(address)\n",
    "list_of_files"
   ]
  },
  {
   "cell_type": "markdown",
   "id": "805f9163-8df2-4edc-8d35-aa97cfc18266",
   "metadata": {},
   "source": [
    "# Test 1\n",
    "Write a program that takes directory address from user and organise filed in to following folders (using os module)\n",
    "\n",
    "| Folder | File types |\n",
    "| --- | --- |\n",
    "| Images | jpg, png |\n",
    "| Videos | mp4, mkv |\n",
    "| Music | mp3, oog |\n",
    "| Documents | txt, docx, pdf |\n",
    "| Misc | other files |\n",
    "\n",
    "```md\n",
    "# Test 1\n",
    "Write a program that takes directory address from user and organise filed in to following folders (using os module)\n",
    "\n",
    "| Folder | File types |\n",
    "| --- | --- |\n",
    "| Images | jpg, png |\n",
    "| Videos | mp4, mkv |\n",
    "| Music | mp3, oog |\n",
    "| Documents | txt, docx, pdf |\n",
    "| Misc | other files |\n",
    "```"
   ]
  },
  {
   "cell_type": "code",
   "execution_count": 4,
   "id": "17183f04-e803-40d2-a7f4-1c764a00acad",
   "metadata": {},
   "outputs": [
    {
     "data": {
      "text/plain": [
       "'jpg'"
      ]
     },
     "execution_count": 4,
     "metadata": {},
     "output_type": "execute_result"
    }
   ],
   "source": [
    "filename = \"base.name.jpg\"\n",
    "list1 = filename.split(\".\")\n",
    "list1[-1]"
   ]
  },
  {
   "cell_type": "code",
   "execution_count": 8,
   "id": "887fb744-2a9d-42af-b36e-4e75dd3950e7",
   "metadata": {},
   "outputs": [
    {
     "name": "stdout",
     "output_type": "stream",
     "text": [
      "0\n"
     ]
    }
   ],
   "source": [
    "# wap to list all the files in a dir, the dir address is taken from user\n",
    "\n",
    "import os\n",
    "\n",
    "address = input(\"Enter directory address\\n\")\n",
    "#address = \"C:\\Users\\PAWAN\\Desktop\\GITHUB\\Python_Class\\Class Notes\"\n",
    "#address = \"/mnt/c/GITHUB/PythonProgrammingUPES/B1B2/dummyDir\" # for linux\n",
    "\n",
    "os.chdir(address)\n",
    "\n",
    "cmd = \"pwd\"\n",
    "print(os.system(cmd))\n",
    "\n",
    "\n",
    "\n"
   ]
  },
  {
   "cell_type": "code",
   "execution_count": 9,
   "id": "d4658932-ebf3-4d45-8394-647b4e4f3192",
   "metadata": {},
   "outputs": [],
   "source": [
    "def create_dir_structure():\n",
    "    folders = \"Images,Videos,Documents,Misc,Music\".split(\",\")\n",
    "    # folders = [\"Images\", \"Videos\", \"Documents\",\"Misc\",\"Music\"]\n",
    "    \n",
    "    for f in folders:\n",
    "        # cmd = f\"mkdir {f}\"\n",
    "        cmd = f\"md {f}\"\n",
    "        os.system(cmd)\n",
    "\n",
    "create_dir_structure()"
   ]
  },
  {
   "cell_type": "code",
   "execution_count": null,
   "id": "5f604a89-8749-4c70-aa42-59a89020ad2c",
   "metadata": {},
   "outputs": [],
   "source": []
  },
  {
   "cell_type": "code",
   "execution_count": null,
   "id": "e23c440c-e42c-4866-b31e-7a727148e336",
   "metadata": {},
   "outputs": [],
   "source": []
  }
 ],
 "metadata": {
  "kernelspec": {
   "display_name": "Python 3 (ipykernel)",
   "language": "python",
   "name": "python3"
  },
  "language_info": {
   "codemirror_mode": {
    "name": "ipython",
    "version": 3
   },
   "file_extension": ".py",
   "mimetype": "text/x-python",
   "name": "python",
   "nbconvert_exporter": "python",
   "pygments_lexer": "ipython3",
   "version": "3.12.4"
  }
 },
 "nbformat": 4,
 "nbformat_minor": 5
}
