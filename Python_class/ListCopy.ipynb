{
 "cells": [
  {
   "cell_type": "markdown",
   "metadata": {},
   "source": [
    "# Python : How to Copy and Deep Copy, Python Lists\n"
   ]
  },
  {
   "cell_type": "code",
   "execution_count": 2,
   "metadata": {},
   "outputs": [],
   "source": [
    "def showDetails(*args):\n",
    "    for i in range(len(args)):\n",
    "        variable = args[i]\n",
    "        print(f\"The Value of { i+1 } variable is \\t{variable }\\t its id is \\t {id(variable)}\")\n",
    "    \n",
    "    print(\"\\n\\n\")\n",
    "    \n",
    "# Assignment is not a copy\n",
    "# listA = listB does not create a copy. Changes to one list will be reflected in the other.\n",
    "# listA and listB both reference the exact same list"
   ]
  },
  {
   "cell_type": "code",
   "execution_count": 3,
   "metadata": {},
   "outputs": [
    {
     "name": "stdout",
     "output_type": "stream",
     "text": [
      "The Value of 1 variable is \t[2, 4, 6, [1, 3]]\t its id is \t 2326970804224\n",
      "The Value of 2 variable is \t[2, 4, 6, [1, 3]]\t its id is \t 2326970804224\n",
      "\n",
      "\n",
      "\n",
      "The Value of 1 variable is \t[2, 44, 6, [1, 3]]\t its id is \t 2326970804224\n",
      "The Value of 2 variable is \t[2, 44, 6, [1, 3]]\t its id is \t 2326970804224\n",
      "\n",
      "\n",
      "\n",
      "The Value of 1 variable is \t[2, 44, 6, [1, 10]]\t its id is \t 2326970804224\n",
      "The Value of 2 variable is \t[2, 44, 6, [1, 10]]\t its id is \t 2326970804224\n",
      "\n",
      "\n",
      "\n"
     ]
    }
   ],
   "source": [
    "listA = [2, 4, 6, [1, 3]]\n",
    "listB = listA\n",
    "showDetails(listA,listB)\n",
    "listB[1] = 44\n",
    "\n",
    "showDetails(listA,listB)\n",
    "listB[3][1] = 10\n",
    "\n",
    "\n",
    "showDetails(listA,listB)"
   ]
  },
  {
   "cell_type": "code",
   "execution_count": 4,
   "metadata": {},
   "outputs": [
    {
     "name": "stdout",
     "output_type": "stream",
     "text": [
      "The Value of 1 variable is \t[2, 4, 6, [1, 3]]\t its id is \t 2326970689472\n",
      "The Value of 2 variable is \t[2, 4, 6, [1, 3]]\t its id is \t 2326970832512\n",
      "\n",
      "\n",
      "\n",
      "The Value of 1 variable is \t[2, 4, 6, [55, 3]]\t its id is \t 2326970689472\n",
      "The Value of 2 variable is \t[2, 44, 6, [55, 3]]\t its id is \t 2326970832512\n",
      "\n",
      "\n",
      "\n"
     ]
    }
   ],
   "source": [
    "# Shallow copy using the list() constructor\n",
    "# Shallow copy only works for ID lists of native data typers.\n",
    "# Sublists, dicts and other objects will retain the same referece to those objects.\n",
    "\n",
    "listA = [2, 4, 6, [1, 3]]\n",
    "listB = list(listA)\n",
    "showDetails(listA,listB)\n",
    "\n",
    "listB[1] = 44\n",
    "listB[3][0] = 55\n",
    "\n",
    "showDetails(listA,listB)"
   ]
  },
  {
   "cell_type": "code",
   "execution_count": 5,
   "metadata": {},
   "outputs": [
    {
     "name": "stdout",
     "output_type": "stream",
     "text": [
      "The Value of 1 variable is \t[2, 4, 6, [1, 3]]\t its id is \t 2326970835520\n",
      "The Value of 2 variable is \t[2, 4, 6, [1, 3]]\t its id is \t 2326970795008\n",
      "\n",
      "\n",
      "\n",
      "The Value of 1 variable is \t[2, 4, 6, [55, 3]]\t its id is \t 2326970835520\n",
      "The Value of 2 variable is \t[2, 44, 6, [55, 3]]\t its id is \t 2326970795008\n",
      "\n",
      "\n",
      "\n"
     ]
    }
   ],
   "source": [
    "# Other ways to make a shallow copy\n",
    "# List  comprehension, list.copy() or copy.copy() can also be used to make shallow copies\n",
    "\n",
    "listA = [2, 4, 6, [1, 3]]\n",
    "listB = [x for x in listA]\n",
    "showDetails(listA,listB)\n",
    "\n",
    "listB[1] = 44\n",
    "listB[3][0] = 55\n",
    "showDetails(listA,listB)\n"
   ]
  },
  {
   "cell_type": "code",
   "execution_count": 6,
   "metadata": {},
   "outputs": [
    {
     "name": "stdout",
     "output_type": "stream",
     "text": [
      "The Value of 1 variable is \t[2, 4, 6, [1, 3]]\t its id is \t 2326970751360\n",
      "The Value of 2 variable is \t[2, 4, 6, [1, 3]]\t its id is \t 2326970837568\n",
      "\n",
      "\n",
      "\n",
      "The Value of 1 variable is \t[2, 4, 6, [1, 3]]\t its id is \t 2326970751360\n",
      "The Value of 2 variable is \t[2, 44, 6, [55, 3]]\t its id is \t 2326970837568\n",
      "\n",
      "\n",
      "\n"
     ]
    }
   ],
   "source": [
    "# for deep copy in python list use copy.deepcopy()\n",
    "\n",
    "import copy\n",
    "listA = [2, 4, 6, [1, 3]]\n",
    "listB = copy.deepcopy(listA)\n",
    "showDetails(listA,listB)\n",
    "listB[1] = 44\n",
    "listB[3][0] = 55\n",
    "showDetails(listA,listB)"
   ]
  },
  {
   "cell_type": "code",
   "execution_count": 7,
   "metadata": {},
   "outputs": [
    {
     "name": "stdout",
     "output_type": "stream",
     "text": [
      "BEFORE ANY CHANGE TO A AND B LIST \n",
      "id(A)-> 2326970632576\n",
      "id(B)-> 2326970695552\n",
      "a=>[1, 2, 3, [100, 200], 4, 5, 6]\n",
      "b=>[1, 2, 3, [100, 200], 4, 5, 6]\n",
      "\n",
      "AFTER CHANGES IN A and B LIST \n",
      "a=>[1, 2, 3, [100, 200], 4, 5, 6]\n",
      "b=>[100, 2, 3, [999, 200], 4, 5, 6]\n"
     ]
    }
   ],
   "source": [
    "# help to import the modules \n",
    "from copy import deepcopy\n",
    "\n",
    "a = [1, 2, 3, [100, 200], 4, 5, 6]\n",
    "\n",
    "b = deepcopy(a)  # DEEPCOPY use kar leya direct library m se\n",
    "print(\"BEFORE ANY CHANGE TO A AND B LIST \")\n",
    "print(f\"id(A)-> {id(a)}\")\n",
    "print(f\"id(B)-> {id(b)}\")\n",
    "\n",
    "print(f\"a=>{a}\")\n",
    "print(f\"b=>{b}\")\n",
    "\n",
    "\n",
    "b[0] = 100\n",
    "b[3][0] = 999\n",
    "print()\n",
    "print(\"AFTER CHANGES IN A and B LIST \")\n",
    "\n",
    "print(f\"a=>{a}\")\n",
    "print(f\"b=>{b}\")"
   ]
  },
  {
   "cell_type": "code",
   "execution_count": 8,
   "metadata": {},
   "outputs": [
    {
     "name": "stdout",
     "output_type": "stream",
     "text": [
      "id(A)-> 2326970611648\n",
      "id(B)-> 2326970835584\n",
      "a=>[1, 2, 3, 4, 5, 6]\n",
      "b=>[1, 2, 3, 4, 5, 6]\n",
      "\n",
      "a=>[1, 2, 3, 4, 5, 6]\n",
      "b=>[100, 2, 3, 4, 5, 6]\n"
     ]
    }
   ],
   "source": [
    "\"\"\"\n",
    "Shallow Copy and Deep Copy concept in list \n",
    "\"\"\"\n",
    "\n",
    "a = [1, 2, 3, 4, 5, 6]\n",
    "\n",
    "b = (\n",
    "    a.copy()\n",
    ")  # this is not the good method to save the duplicate list, humne sirf memory copy kari hai\n",
    "print(f\"id(A)-> {id(a)}\")\n",
    "print(f\"id(B)-> {id(b)}\")\n",
    "\n",
    "print(f\"a=>{a}\")\n",
    "print(f\"b=>{b}\")\n",
    "\n",
    "# and jab mane b ki index position ki value change kari toh a ki bhi value change ho gai hai\n",
    "b[0] = 100\n",
    "print()\n",
    "print(f\"a=>{a}\")\n",
    "print(f\"b=>{b}\")\n",
    "# NOTE that value of A list also changes at index position 0,\n",
    "# therefore to avoid this we use the concept of shallow copy and deep copy\n",
    "# as done above\n",
    "\n",
    "# DEEP COPY :  nested list ki ID change karna"
   ]
  }
 ],
 "metadata": {
  "kernelspec": {
   "display_name": "Python 3",
   "language": "python",
   "name": "python3"
  },
  "language_info": {
   "codemirror_mode": {
    "name": "ipython",
    "version": 3
   },
   "file_extension": ".py",
   "mimetype": "text/x-python",
   "name": "python",
   "nbconvert_exporter": "python",
   "pygments_lexer": "ipython3",
   "version": "3.12.4"
  }
 },
 "nbformat": 4,
 "nbformat_minor": 2
}
